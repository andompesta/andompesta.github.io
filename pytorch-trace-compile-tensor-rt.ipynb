{
 "cells": [
  {
   "cell_type": "markdown",
   "id": "24779f22",
   "metadata": {
    "id": "view-in-github",
    "papermill": {
     "duration": 0.009849,
     "end_time": "2024-05-30T14:32:25.663409",
     "exception": false,
     "start_time": "2024-05-30T14:32:25.653560",
     "status": "completed"
    },
    "tags": []
   },
   "source": [
    "<a href=\"https://colab.research.google.com/gist/andompesta/5414a6d1e57c9d8ac9636b3388d22e6f/tensor_rt_exporter.ipynb\" target=\"_parent\"><img src=\"https://colab.research.google.com/assets/colab-badge.svg\" alt=\"Open In Colab\"/></a>"
   ]
  },
  {
   "cell_type": "code",
   "execution_count": 1,
   "id": "44ccca3f",
   "metadata": {
    "execution": {
     "iopub.execute_input": "2024-05-30T14:32:25.683690Z",
     "iopub.status.busy": "2024-05-30T14:32:25.683368Z",
     "iopub.status.idle": "2024-05-30T14:32:26.699340Z",
     "shell.execute_reply": "2024-05-30T14:32:26.698335Z"
    },
    "papermill": {
     "duration": 1.028915,
     "end_time": "2024-05-30T14:32:26.701975",
     "exception": false,
     "start_time": "2024-05-30T14:32:25.673060",
     "status": "completed"
    },
    "tags": []
   },
   "outputs": [
    {
     "name": "stdout",
     "output_type": "stream",
     "text": [
      "nvcc: NVIDIA (R) Cuda compiler driver\r\n",
      "Copyright (c) 2005-2023 NVIDIA Corporation\r\n",
      "Built on Mon_Apr__3_17:16:06_PDT_2023\r\n",
      "Cuda compilation tools, release 12.1, V12.1.105\r\n",
      "Build cuda_12.1.r12.1/compiler.32688072_0\r\n"
     ]
    }
   ],
   "source": [
    "!nvcc --version"
   ]
  },
  {
   "cell_type": "code",
   "execution_count": 2,
   "id": "d81f7ab3",
   "metadata": {
    "execution": {
     "iopub.execute_input": "2024-05-30T14:32:26.723522Z",
     "iopub.status.busy": "2024-05-30T14:32:26.723175Z",
     "iopub.status.idle": "2024-05-30T14:32:27.797237Z",
     "shell.execute_reply": "2024-05-30T14:32:27.796268Z"
    },
    "papermill": {
     "duration": 1.087432,
     "end_time": "2024-05-30T14:32:27.799694",
     "exception": false,
     "start_time": "2024-05-30T14:32:26.712262",
     "status": "completed"
    },
    "tags": []
   },
   "outputs": [
    {
     "name": "stdout",
     "output_type": "stream",
     "text": [
      "Thu May 30 14:32:27 2024       \r\n",
      "+---------------------------------------------------------------------------------------+\r\n",
      "| NVIDIA-SMI 535.129.03             Driver Version: 535.129.03   CUDA Version: 12.2     |\r\n",
      "|-----------------------------------------+----------------------+----------------------+\r\n",
      "| GPU  Name                 Persistence-M | Bus-Id        Disp.A | Volatile Uncorr. ECC |\r\n",
      "| Fan  Temp   Perf          Pwr:Usage/Cap |         Memory-Usage | GPU-Util  Compute M. |\r\n",
      "|                                         |                      |               MIG M. |\r\n",
      "|=========================================+======================+======================|\r\n",
      "|   0  Tesla T4                       Off | 00000000:00:04.0 Off |                    0 |\r\n",
      "| N/A   37C    P8              11W /  70W |      0MiB / 15360MiB |      0%      Default |\r\n",
      "|                                         |                      |                  N/A |\r\n",
      "+-----------------------------------------+----------------------+----------------------+\r\n",
      "|   1  Tesla T4                       Off | 00000000:00:05.0 Off |                    0 |\r\n",
      "| N/A   35C    P8              11W /  70W |      0MiB / 15360MiB |      0%      Default |\r\n",
      "|                                         |                      |                  N/A |\r\n",
      "+-----------------------------------------+----------------------+----------------------+\r\n",
      "                                                                                         \r\n",
      "+---------------------------------------------------------------------------------------+\r\n",
      "| Processes:                                                                            |\r\n",
      "|  GPU   GI   CI        PID   Type   Process name                            GPU Memory |\r\n",
      "|        ID   ID                                                             Usage      |\r\n",
      "|=======================================================================================|\r\n",
      "|  No running processes found                                                           |\r\n",
      "+---------------------------------------------------------------------------------------+\r\n"
     ]
    }
   ],
   "source": [
    "!nvidia-smi"
   ]
  },
  {
   "cell_type": "code",
   "execution_count": 3,
   "id": "ac86a928",
   "metadata": {
    "execution": {
     "iopub.execute_input": "2024-05-30T14:32:27.820642Z",
     "iopub.status.busy": "2024-05-30T14:32:27.820313Z",
     "iopub.status.idle": "2024-05-30T14:36:21.114594Z",
     "shell.execute_reply": "2024-05-30T14:36:21.113575Z"
    },
    "papermill": {
     "duration": 233.307426,
     "end_time": "2024-05-30T14:36:21.116970",
     "exception": false,
     "start_time": "2024-05-30T14:32:27.809544",
     "status": "completed"
    },
    "tags": []
   },
   "outputs": [
    {
     "name": "stdout",
     "output_type": "stream",
     "text": [
      "Looking in indexes: https://pypi.org/simple, https://download.pytorch.org/whl/cu121\r\n",
      "Collecting torch-tensorrt\r\n",
      "  Downloading https://download.pytorch.org/whl/cu121/torch_tensorrt-2.2.0%2Bcu121-cp310-cp310-linux_x86_64.whl (3.4 MB)\r\n",
      "\u001b[2K     \u001b[90m━━━━━━━━━━━━━━━━━━━━━━━━━━━━━━━━━━━━━━━━\u001b[0m \u001b[32m3.4/3.4 MB\u001b[0m \u001b[31m29.4 MB/s\u001b[0m eta \u001b[36m0:00:00\u001b[0m\r\n",
      "\u001b[?25hCollecting tensorrt\r\n",
      "  Downloading tensorrt-10.0.1.tar.gz (16 kB)\r\n",
      "  Preparing metadata (setup.py) ... \u001b[?25l-\b \bdone\r\n",
      "\u001b[?25hCollecting torch<2.3.0,>=2.2.0 (from torch-tensorrt)\r\n",
      "  Downloading https://download.pytorch.org/whl/cu121/torch-2.2.2%2Bcu121-cp310-cp310-linux_x86_64.whl (757.3 MB)\r\n",
      "\u001b[2K     \u001b[90m━━━━━━━━━━━━━━━━━━━━━━━━━━━━━━━━━━━━━━━\u001b[0m \u001b[32m757.3/757.3 MB\u001b[0m \u001b[31m2.1 MB/s\u001b[0m eta \u001b[36m0:00:00\u001b[0m\r\n",
      "\u001b[?25hCollecting tensorrt\r\n",
      "  Downloading tensorrt-8.6.1.post1.tar.gz (18 kB)\r\n",
      "  Preparing metadata (setup.py) ... \u001b[?25l-\b \b\\\b \bdone\r\n",
      "\u001b[?25hCollecting packaging>=23 (from torch-tensorrt)\r\n",
      "  Downloading packaging-24.0-py3-none-any.whl.metadata (3.2 kB)\r\n",
      "Requirement already satisfied: numpy in /opt/conda/lib/python3.10/site-packages (from torch-tensorrt) (1.26.4)\r\n",
      "Requirement already satisfied: typing-extensions>=4.7.0 in /opt/conda/lib/python3.10/site-packages (from torch-tensorrt) (4.9.0)\r\n",
      "Requirement already satisfied: filelock in /opt/conda/lib/python3.10/site-packages (from torch<2.3.0,>=2.2.0->torch-tensorrt) (3.13.1)\r\n",
      "Requirement already satisfied: sympy in /opt/conda/lib/python3.10/site-packages (from torch<2.3.0,>=2.2.0->torch-tensorrt) (1.12)\r\n",
      "Requirement already satisfied: networkx in /opt/conda/lib/python3.10/site-packages (from torch<2.3.0,>=2.2.0->torch-tensorrt) (3.2.1)\r\n",
      "Requirement already satisfied: jinja2 in /opt/conda/lib/python3.10/site-packages (from torch<2.3.0,>=2.2.0->torch-tensorrt) (3.1.2)\r\n",
      "Requirement already satisfied: fsspec in /opt/conda/lib/python3.10/site-packages (from torch<2.3.0,>=2.2.0->torch-tensorrt) (2024.2.0)\r\n",
      "Collecting nvidia-cuda-nvrtc-cu12==12.1.105 (from torch<2.3.0,>=2.2.0->torch-tensorrt)\r\n",
      "  Downloading https://download.pytorch.org/whl/cu121/nvidia_cuda_nvrtc_cu12-12.1.105-py3-none-manylinux1_x86_64.whl (23.7 MB)\r\n",
      "\u001b[2K     \u001b[90m━━━━━━━━━━━━━━━━━━━━━━━━━━━━━━━━━━━━━━━━\u001b[0m \u001b[32m23.7/23.7 MB\u001b[0m \u001b[31m59.4 MB/s\u001b[0m eta \u001b[36m0:00:00\u001b[0m\r\n",
      "\u001b[?25hCollecting nvidia-cuda-runtime-cu12==12.1.105 (from torch<2.3.0,>=2.2.0->torch-tensorrt)\r\n",
      "  Downloading https://download.pytorch.org/whl/cu121/nvidia_cuda_runtime_cu12-12.1.105-py3-none-manylinux1_x86_64.whl (823 kB)\r\n",
      "\u001b[2K     \u001b[90m━━━━━━━━━━━━━━━━━━━━━━━━━━━━━━━━━━━━━━\u001b[0m \u001b[32m823.6/823.6 kB\u001b[0m \u001b[31m43.0 MB/s\u001b[0m eta \u001b[36m0:00:00\u001b[0m\r\n",
      "\u001b[?25hCollecting nvidia-cuda-cupti-cu12==12.1.105 (from torch<2.3.0,>=2.2.0->torch-tensorrt)\r\n",
      "  Downloading https://download.pytorch.org/whl/cu121/nvidia_cuda_cupti_cu12-12.1.105-py3-none-manylinux1_x86_64.whl (14.1 MB)\r\n",
      "\u001b[2K     \u001b[90m━━━━━━━━━━━━━━━━━━━━━━━━━━━━━━━━━━━━━━━━\u001b[0m \u001b[32m14.1/14.1 MB\u001b[0m \u001b[31m74.6 MB/s\u001b[0m eta \u001b[36m0:00:00\u001b[0m\r\n",
      "\u001b[?25hCollecting nvidia-cudnn-cu12==8.9.2.26 (from torch<2.3.0,>=2.2.0->torch-tensorrt)\r\n",
      "  Downloading https://download.pytorch.org/whl/cu121/nvidia_cudnn_cu12-8.9.2.26-py3-none-manylinux1_x86_64.whl (731.7 MB)\r\n",
      "\u001b[2K     \u001b[90m━━━━━━━━━━━━━━━━━━━━━━━━━━━━━━━━━━━━━━━\u001b[0m \u001b[32m731.7/731.7 MB\u001b[0m \u001b[31m2.2 MB/s\u001b[0m eta \u001b[36m0:00:00\u001b[0m\r\n",
      "\u001b[?25hCollecting nvidia-cublas-cu12==12.1.3.1 (from torch<2.3.0,>=2.2.0->torch-tensorrt)\r\n",
      "  Downloading https://download.pytorch.org/whl/cu121/nvidia_cublas_cu12-12.1.3.1-py3-none-manylinux1_x86_64.whl (410.6 MB)\r\n",
      "\u001b[2K     \u001b[90m━━━━━━━━━━━━━━━━━━━━━━━━━━━━━━━━━━━━━━━\u001b[0m \u001b[32m410.6/410.6 MB\u001b[0m \u001b[31m3.8 MB/s\u001b[0m eta \u001b[36m0:00:00\u001b[0m\r\n",
      "\u001b[?25hCollecting nvidia-cufft-cu12==11.0.2.54 (from torch<2.3.0,>=2.2.0->torch-tensorrt)\r\n",
      "  Downloading https://download.pytorch.org/whl/cu121/nvidia_cufft_cu12-11.0.2.54-py3-none-manylinux1_x86_64.whl (121.6 MB)\r\n",
      "\u001b[2K     \u001b[90m━━━━━━━━━━━━━━━━━━━━━━━━━━━━━━━━━━━━━━\u001b[0m \u001b[32m121.6/121.6 MB\u001b[0m \u001b[31m13.2 MB/s\u001b[0m eta \u001b[36m0:00:00\u001b[0m\r\n",
      "\u001b[?25hCollecting nvidia-curand-cu12==10.3.2.106 (from torch<2.3.0,>=2.2.0->torch-tensorrt)\r\n",
      "  Downloading https://download.pytorch.org/whl/cu121/nvidia_curand_cu12-10.3.2.106-py3-none-manylinux1_x86_64.whl (56.5 MB)\r\n",
      "\u001b[2K     \u001b[90m━━━━━━━━━━━━━━━━━━━━━━━━━━━━━━━━━━━━━━━━\u001b[0m \u001b[32m56.5/56.5 MB\u001b[0m \u001b[31m28.6 MB/s\u001b[0m eta \u001b[36m0:00:00\u001b[0m\r\n",
      "\u001b[?25hCollecting nvidia-cusolver-cu12==11.4.5.107 (from torch<2.3.0,>=2.2.0->torch-tensorrt)\r\n",
      "  Downloading https://download.pytorch.org/whl/cu121/nvidia_cusolver_cu12-11.4.5.107-py3-none-manylinux1_x86_64.whl (124.2 MB)\r\n",
      "\u001b[2K     \u001b[90m━━━━━━━━━━━━━━━━━━━━━━━━━━━━━━━━━━━━━━\u001b[0m \u001b[32m124.2/124.2 MB\u001b[0m \u001b[31m12.8 MB/s\u001b[0m eta \u001b[36m0:00:00\u001b[0m\r\n",
      "\u001b[?25hCollecting nvidia-cusparse-cu12==12.1.0.106 (from torch<2.3.0,>=2.2.0->torch-tensorrt)\r\n",
      "  Downloading https://download.pytorch.org/whl/cu121/nvidia_cusparse_cu12-12.1.0.106-py3-none-manylinux1_x86_64.whl (196.0 MB)\r\n",
      "\u001b[2K     \u001b[90m━━━━━━━━━━━━━━━━━━━━━━━━━━━━━━━━━━━━━━━\u001b[0m \u001b[32m196.0/196.0 MB\u001b[0m \u001b[31m8.4 MB/s\u001b[0m eta \u001b[36m0:00:00\u001b[0m\r\n",
      "\u001b[?25hCollecting nvidia-nccl-cu12==2.19.3 (from torch<2.3.0,>=2.2.0->torch-tensorrt)\r\n",
      "  Downloading https://download.pytorch.org/whl/cu121/nvidia_nccl_cu12-2.19.3-py3-none-manylinux1_x86_64.whl (166.0 MB)\r\n",
      "\u001b[2K     \u001b[90m━━━━━━━━━━━━━━━━━━━━━━━━━━━━━━━━━━━━━━━\u001b[0m \u001b[32m166.0/166.0 MB\u001b[0m \u001b[31m9.7 MB/s\u001b[0m eta \u001b[36m0:00:00\u001b[0m\r\n",
      "\u001b[?25hCollecting nvidia-nvtx-cu12==12.1.105 (from torch<2.3.0,>=2.2.0->torch-tensorrt)\r\n",
      "  Downloading https://download.pytorch.org/whl/cu121/nvidia_nvtx_cu12-12.1.105-py3-none-manylinux1_x86_64.whl (99 kB)\r\n",
      "\u001b[2K     \u001b[90m━━━━━━━━━━━━━━━━━━━━━━━━━━━━━━━━━━━━━━━━\u001b[0m \u001b[32m99.1/99.1 kB\u001b[0m \u001b[31m7.4 MB/s\u001b[0m eta \u001b[36m0:00:00\u001b[0m\r\n",
      "\u001b[?25hCollecting triton==2.2.0 (from torch<2.3.0,>=2.2.0->torch-tensorrt)\r\n",
      "  Downloading https://download.pytorch.org/whl/triton-2.2.0-cp310-cp310-manylinux_2_17_x86_64.manylinux2014_x86_64.whl (167.9 MB)\r\n",
      "\u001b[2K     \u001b[90m━━━━━━━━━━━━━━━━━━━━━━━━━━━━━━━━━━━━━━━\u001b[0m \u001b[32m167.9/167.9 MB\u001b[0m \u001b[31m9.6 MB/s\u001b[0m eta \u001b[36m0:00:00\u001b[0m\r\n",
      "\u001b[?25hCollecting nvidia-nvjitlink-cu12 (from nvidia-cusolver-cu12==11.4.5.107->torch<2.3.0,>=2.2.0->torch-tensorrt)\r\n",
      "  Downloading nvidia_nvjitlink_cu12-12.5.40-py3-none-manylinux2014_x86_64.whl.metadata (1.5 kB)\r\n",
      "Requirement already satisfied: MarkupSafe>=2.0 in /opt/conda/lib/python3.10/site-packages (from jinja2->torch<2.3.0,>=2.2.0->torch-tensorrt) (2.1.3)\r\n",
      "Requirement already satisfied: mpmath>=0.19 in /opt/conda/lib/python3.10/site-packages (from sympy->torch<2.3.0,>=2.2.0->torch-tensorrt) (1.3.0)\r\n",
      "Downloading packaging-24.0-py3-none-any.whl (53 kB)\r\n",
      "\u001b[2K   \u001b[90m━━━━━━━━━━━━━━━━━━━━━━━━━━━━━━━━━━━━━━━━\u001b[0m \u001b[32m53.5/53.5 kB\u001b[0m \u001b[31m956.8 kB/s\u001b[0m eta \u001b[36m0:00:00\u001b[0m\r\n",
      "\u001b[?25hDownloading nvidia_nvjitlink_cu12-12.5.40-py3-none-manylinux2014_x86_64.whl (21.3 MB)\r\n",
      "\u001b[2K   \u001b[90m━━━━━━━━━━━━━━━━━━━━━━━━━━━━━━━━━━━━━━━━\u001b[0m \u001b[32m21.3/21.3 MB\u001b[0m \u001b[31m32.4 MB/s\u001b[0m eta \u001b[36m0:00:00\u001b[0m\r\n",
      "\u001b[?25hBuilding wheels for collected packages: tensorrt\r\n",
      "  Building wheel for tensorrt (setup.py) ... \u001b[?25l-\b \b\\\b \b|\b \b/\b \b-\b \b\\\b \b|\b \b/\b \b-\b \b\\\b \b|\b \b/\b \b-\b \b\\\b \b|\b \b/\b \b-\b \b\\\b \b|\b \b/\b \b-\b \b\\\b \b|\b \b/\b \b-\b \b\\\b \b|\b \b/\b \b-\b \b\\\b \b|\b \b/\b \b-\b \b\\\b \b|\b \b/\b \b-\b \b\\\b \b|\b \b/\b \b-\b \b\\\b \b|\b \b/\b \b-\b \b\\\b \b|\b \b/\b \b-\b \b\\\b \b|\b \b/\b \b-\b \b\\\b \b|\b \b/\b \b-\b \b\\\b \b|\b \b/\b \b-\b \b\\\b \b|\b \b/\b \b-\b \b\\\b \b|\b \b/\b \b-\b \b\\\b \b|\b \b/\b \b-\b \b\\\b \b|\b \b/\b \b-\b \b\\\b \b|\b \b/\b \b-\b \b\\\b \b|\b \b/\b \b-\b \b\\\b \b|\b \b/\b \b-\b \b\\\b \b|\b \b/\b \b-\b \b\\\b \b|\b \b/\b \b-\b \b\\\b \b|\b \b/\b \b-\b \b\\\b \b|\b \b/\b \b-\b \b\\\b \b|\b \b/\b \b-\b \b\\\b \b|\b \b/\b \b-\b \b\\\b \b|\b \b/\b \b-\b \b\\\b \b|\b \b/\b \b-\b \b\\\b \b|\b \b/\b \b-\b \b\\\b \b|\b \b/\b \b-\b \b\\\b \b|\b \b/\b \b-\b \b\\\b \b|\b \b/\b \b-\b \b\\\b \b|\b \b/\b \b-\b \b\\\b \b|\b \b/\b \b-\b \b\\\b \b|\b \b/\b \b-\b \b\\\b \b|\b \b/\b \b-\b \b\\\b \b|\b \b/\b \b-\b \b\\\b \b|\b \b/\b \b-\b \b\\\b \b|\b \b/\b \b-\b \b\\\b \b|\b \b/\b \b-\b \b\\\b \b|\b \b/\b \b-\b \b\\\b \b|\b \b/\b \b-\b \b\\\b \b|\b \b/\b \b-\b \b\\\b \b|\b \b/\b \b-\b \b\\\b \b|\b \b/\b \b-\b \b\\\b \b|\b \b/\b \b-\b \b\\\b \b|\b \b/\b \b-\b \b\\\b \b|\b \b/\b \b-\b \b\\\b \b|\b \b/\b \b-\b \b\\\b \b|\b \b/\b \b-\b \b\\\b \b|\b \b/\b \b-\b \b\\\b \b|\b \b/\b \b-\b \b\\\b \b|\b \b/\b \b-\b \b\\\b \b|\b \b/\b \b-\b \b\\\b \b|\b \b/\b \b-\b \b\\\b \b|\b \b/\b \b-\b \b\\\b \b|\b \b/\b \b-\b \b\\\b \b|\b \b/\b \b-\b \b\\\b \b|\b \b/\b \b-\b \b\\\b \b|\b \b/\b \b-\b \bdone\r\n",
      "\u001b[?25h  Created wheel for tensorrt: filename=tensorrt-8.6.1.post1-py2.py3-none-any.whl size=17283 sha256=d51228de18bc3cc067b426aa12f571a38ffff08ad672d0bae618f49630a64171\r\n",
      "  Stored in directory: /root/.cache/pip/wheels/f4/c8/0e/b79b08e45752491b9acfdbd69e8a609e8b2ed7640dda5a3e59\r\n",
      "Successfully built tensorrt\r\n",
      "Installing collected packages: triton, tensorrt, packaging, nvidia-nvtx-cu12, nvidia-nvjitlink-cu12, nvidia-nccl-cu12, nvidia-curand-cu12, nvidia-cufft-cu12, nvidia-cuda-runtime-cu12, nvidia-cuda-nvrtc-cu12, nvidia-cuda-cupti-cu12, nvidia-cublas-cu12, nvidia-cusparse-cu12, nvidia-cudnn-cu12, nvidia-cusolver-cu12, torch, torch-tensorrt\r\n",
      "  Attempting uninstall: packaging\r\n",
      "    Found existing installation: packaging 21.3\r\n",
      "    Uninstalling packaging-21.3:\r\n",
      "      Successfully uninstalled packaging-21.3\r\n",
      "  Attempting uninstall: torch\r\n",
      "    Found existing installation: torch 2.1.2\r\n",
      "    Uninstalling torch-2.1.2:\r\n",
      "      Successfully uninstalled torch-2.1.2\r\n",
      "\u001b[31mERROR: pip's dependency resolver does not currently take into account all the packages that are installed. This behaviour is the source of the following dependency conflicts.\r\n",
      "cudf 23.8.0 requires cubinlinker, which is not installed.\r\n",
      "cudf 23.8.0 requires cupy-cuda11x>=12.0.0, which is not installed.\r\n",
      "cudf 23.8.0 requires ptxcompiler, which is not installed.\r\n",
      "cuml 23.8.0 requires cupy-cuda11x>=12.0.0, which is not installed.\r\n",
      "dask-cudf 23.8.0 requires cupy-cuda11x>=12.0.0, which is not installed.\r\n",
      "keras-cv 0.8.2 requires keras-core, which is not installed.\r\n",
      "keras-nlp 0.9.3 requires keras-core, which is not installed.\r\n",
      "tensorflow-decision-forests 1.8.1 requires wurlitzer, which is not installed.\r\n",
      "cudf 23.8.0 requires cuda-python<12.0a0,>=11.7.1, but you have cuda-python 12.4.0 which is incompatible.\r\n",
      "cudf 23.8.0 requires pandas<1.6.0dev0,>=1.3, but you have pandas 2.1.4 which is incompatible.\r\n",
      "cudf 23.8.0 requires protobuf<5,>=4.21, but you have protobuf 3.20.3 which is incompatible.\r\n",
      "cudf 23.8.0 requires pyarrow==11.*, but you have pyarrow 15.0.2 which is incompatible.\r\n",
      "cuml 23.8.0 requires dask==2023.7.1, but you have dask 2024.4.1 which is incompatible.\r\n",
      "dask-cuda 23.8.0 requires dask==2023.7.1, but you have dask 2024.4.1 which is incompatible.\r\n",
      "dask-cuda 23.8.0 requires pandas<1.6.0dev0,>=1.3, but you have pandas 2.1.4 which is incompatible.\r\n",
      "dask-cudf 23.8.0 requires dask==2023.7.1, but you have dask 2024.4.1 which is incompatible.\r\n",
      "dask-cudf 23.8.0 requires pandas<1.6.0dev0,>=1.3, but you have pandas 2.1.4 which is incompatible.\r\n",
      "distributed 2023.7.1 requires dask==2023.7.1, but you have dask 2024.4.1 which is incompatible.\r\n",
      "google-cloud-bigquery 2.34.4 requires packaging<22.0dev,>=14.3, but you have packaging 24.0 which is incompatible.\r\n",
      "jupyterlab 4.1.6 requires jupyter-lsp>=2.0.0, but you have jupyter-lsp 1.5.1 which is incompatible.\r\n",
      "jupyterlab-lsp 5.1.0 requires jupyter-lsp>=2.0.0, but you have jupyter-lsp 1.5.1 which is incompatible.\r\n",
      "libpysal 4.9.2 requires shapely>=2.0.1, but you have shapely 1.8.5.post1 which is incompatible.\r\n",
      "momepy 0.7.0 requires shapely>=2, but you have shapely 1.8.5.post1 which is incompatible.\r\n",
      "osmnx 1.9.2 requires shapely>=2.0, but you have shapely 1.8.5.post1 which is incompatible.\r\n",
      "raft-dask 23.8.0 requires dask==2023.7.1, but you have dask 2024.4.1 which is incompatible.\r\n",
      "spopt 0.6.0 requires shapely>=2.0.1, but you have shapely 1.8.5.post1 which is incompatible.\r\n",
      "tensorflow 2.15.0 requires keras<2.16,>=2.15.0, but you have keras 3.2.1 which is incompatible.\r\n",
      "ydata-profiling 4.6.4 requires numpy<1.26,>=1.16.0, but you have numpy 1.26.4 which is incompatible.\u001b[0m\u001b[31m\r\n",
      "\u001b[0mSuccessfully installed nvidia-cublas-cu12-12.1.3.1 nvidia-cuda-cupti-cu12-12.1.105 nvidia-cuda-nvrtc-cu12-12.1.105 nvidia-cuda-runtime-cu12-12.1.105 nvidia-cudnn-cu12-8.9.2.26 nvidia-cufft-cu12-11.0.2.54 nvidia-curand-cu12-10.3.2.106 nvidia-cusolver-cu12-11.4.5.107 nvidia-cusparse-cu12-12.1.0.106 nvidia-nccl-cu12-2.19.3 nvidia-nvjitlink-cu12-12.5.40 nvidia-nvtx-cu12-12.1.105 packaging-24.0 tensorrt-8.6.1.post1 torch-2.2.2+cu121 torch-tensorrt-2.2.0+cu121 triton-2.2.0\r\n"
     ]
    }
   ],
   "source": [
    "!pip install --upgrade torch-tensorrt tensorrt --extra-index-url https://download.pytorch.org/whl/cu121"
   ]
  },
  {
   "cell_type": "code",
   "execution_count": 4,
   "id": "967bffbb",
   "metadata": {
    "execution": {
     "iopub.execute_input": "2024-05-30T14:36:21.351958Z",
     "iopub.status.busy": "2024-05-30T14:36:21.351180Z",
     "iopub.status.idle": "2024-05-30T14:36:21.449825Z",
     "shell.execute_reply": "2024-05-30T14:36:21.448858Z"
    },
    "papermill": {
     "duration": 0.195863,
     "end_time": "2024-05-30T14:36:21.452093",
     "exception": false,
     "start_time": "2024-05-30T14:36:21.256230",
     "status": "completed"
    },
    "tags": []
   },
   "outputs": [
    {
     "data": {
      "text/plain": [
       "'8.6.1'"
      ]
     },
     "execution_count": 4,
     "metadata": {},
     "output_type": "execute_result"
    }
   ],
   "source": [
    "import tensorrt as trt \n",
    "\n",
    "trt.__version__"
   ]
  },
  {
   "cell_type": "code",
   "execution_count": 5,
   "id": "c8fd1afc",
   "metadata": {
    "execution": {
     "iopub.execute_input": "2024-05-30T14:36:21.635963Z",
     "iopub.status.busy": "2024-05-30T14:36:21.635388Z",
     "iopub.status.idle": "2024-05-30T14:36:35.960826Z",
     "shell.execute_reply": "2024-05-30T14:36:35.959825Z"
    },
    "id": "s6UDggq9ZcCt",
    "outputId": "2d54cade-294f-43b9-c721-43be5dbdc3f2",
    "papermill": {
     "duration": 14.419813,
     "end_time": "2024-05-30T14:36:35.963388",
     "exception": false,
     "start_time": "2024-05-30T14:36:21.543575",
     "status": "completed"
    },
    "tags": []
   },
   "outputs": [
    {
     "name": "stdout",
     "output_type": "stream",
     "text": [
      "Requirement already satisfied: pycuda in /opt/conda/lib/python3.10/site-packages (2024.1)\r\n",
      "Requirement already satisfied: scikit-image in /opt/conda/lib/python3.10/site-packages (0.22.0)\r\n",
      "Requirement already satisfied: matplotlib in /opt/conda/lib/python3.10/site-packages (3.7.5)\r\n",
      "Requirement already satisfied: torchvision in /opt/conda/lib/python3.10/site-packages (0.16.2)\r\n",
      "Requirement already satisfied: onnx in /opt/conda/lib/python3.10/site-packages (1.16.0)\r\n",
      "Collecting onnxscript\r\n",
      "  Downloading onnxscript-0.1.0.dev20240530-py3-none-any.whl.metadata (10 kB)\r\n",
      "Requirement already satisfied: pytools>=2011.2 in /opt/conda/lib/python3.10/site-packages (from pycuda) (2024.1.1)\r\n",
      "Requirement already satisfied: appdirs>=1.4.0 in /opt/conda/lib/python3.10/site-packages (from pycuda) (1.4.4)\r\n",
      "Requirement already satisfied: mako in /opt/conda/lib/python3.10/site-packages (from pycuda) (1.3.3)\r\n",
      "Requirement already satisfied: numpy>=1.22 in /opt/conda/lib/python3.10/site-packages (from scikit-image) (1.26.4)\r\n",
      "Requirement already satisfied: scipy>=1.8 in /opt/conda/lib/python3.10/site-packages (from scikit-image) (1.11.4)\r\n",
      "Requirement already satisfied: networkx>=2.8 in /opt/conda/lib/python3.10/site-packages (from scikit-image) (3.2.1)\r\n",
      "Requirement already satisfied: pillow>=9.0.1 in /opt/conda/lib/python3.10/site-packages (from scikit-image) (9.5.0)\r\n",
      "Requirement already satisfied: imageio>=2.27 in /opt/conda/lib/python3.10/site-packages (from scikit-image) (2.33.1)\r\n",
      "Requirement already satisfied: tifffile>=2022.8.12 in /opt/conda/lib/python3.10/site-packages (from scikit-image) (2023.12.9)\r\n",
      "Requirement already satisfied: packaging>=21 in /opt/conda/lib/python3.10/site-packages (from scikit-image) (24.0)\r\n",
      "Requirement already satisfied: lazy_loader>=0.3 in /opt/conda/lib/python3.10/site-packages (from scikit-image) (0.3)\r\n",
      "Requirement already satisfied: contourpy>=1.0.1 in /opt/conda/lib/python3.10/site-packages (from matplotlib) (1.2.0)\r\n",
      "Requirement already satisfied: cycler>=0.10 in /opt/conda/lib/python3.10/site-packages (from matplotlib) (0.12.1)\r\n",
      "Requirement already satisfied: fonttools>=4.22.0 in /opt/conda/lib/python3.10/site-packages (from matplotlib) (4.47.0)\r\n",
      "Requirement already satisfied: kiwisolver>=1.0.1 in /opt/conda/lib/python3.10/site-packages (from matplotlib) (1.4.5)\r\n",
      "Requirement already satisfied: pyparsing>=2.3.1 in /opt/conda/lib/python3.10/site-packages (from matplotlib) (3.1.1)\r\n",
      "Requirement already satisfied: python-dateutil>=2.7 in /opt/conda/lib/python3.10/site-packages (from matplotlib) (2.9.0.post0)\r\n",
      "Requirement already satisfied: requests in /opt/conda/lib/python3.10/site-packages (from torchvision) (2.31.0)\r\n",
      "Requirement already satisfied: torch in /opt/conda/lib/python3.10/site-packages (from torchvision) (2.2.2+cu121)\r\n",
      "Requirement already satisfied: protobuf>=3.20.2 in /opt/conda/lib/python3.10/site-packages (from onnx) (3.20.3)\r\n",
      "Requirement already satisfied: typing-extensions in /opt/conda/lib/python3.10/site-packages (from onnxscript) (4.9.0)\r\n",
      "Requirement already satisfied: ml-dtypes in /opt/conda/lib/python3.10/site-packages (from onnxscript) (0.2.0)\r\n",
      "Requirement already satisfied: six>=1.5 in /opt/conda/lib/python3.10/site-packages (from python-dateutil>=2.7->matplotlib) (1.16.0)\r\n",
      "Requirement already satisfied: platformdirs>=2.2.0 in /opt/conda/lib/python3.10/site-packages (from pytools>=2011.2->pycuda) (4.2.0)\r\n",
      "Requirement already satisfied: MarkupSafe>=0.9.2 in /opt/conda/lib/python3.10/site-packages (from mako->pycuda) (2.1.3)\r\n",
      "Requirement already satisfied: charset-normalizer<4,>=2 in /opt/conda/lib/python3.10/site-packages (from requests->torchvision) (3.3.2)\r\n",
      "Requirement already satisfied: idna<4,>=2.5 in /opt/conda/lib/python3.10/site-packages (from requests->torchvision) (3.6)\r\n",
      "Requirement already satisfied: urllib3<3,>=1.21.1 in /opt/conda/lib/python3.10/site-packages (from requests->torchvision) (1.26.18)\r\n",
      "Requirement already satisfied: certifi>=2017.4.17 in /opt/conda/lib/python3.10/site-packages (from requests->torchvision) (2024.2.2)\r\n",
      "Requirement already satisfied: filelock in /opt/conda/lib/python3.10/site-packages (from torch->torchvision) (3.13.1)\r\n",
      "Requirement already satisfied: sympy in /opt/conda/lib/python3.10/site-packages (from torch->torchvision) (1.12)\r\n",
      "Requirement already satisfied: jinja2 in /opt/conda/lib/python3.10/site-packages (from torch->torchvision) (3.1.2)\r\n",
      "Requirement already satisfied: fsspec in /opt/conda/lib/python3.10/site-packages (from torch->torchvision) (2024.2.0)\r\n",
      "Requirement already satisfied: nvidia-cuda-nvrtc-cu12==12.1.105 in /opt/conda/lib/python3.10/site-packages (from torch->torchvision) (12.1.105)\r\n",
      "Requirement already satisfied: nvidia-cuda-runtime-cu12==12.1.105 in /opt/conda/lib/python3.10/site-packages (from torch->torchvision) (12.1.105)\r\n",
      "Requirement already satisfied: nvidia-cuda-cupti-cu12==12.1.105 in /opt/conda/lib/python3.10/site-packages (from torch->torchvision) (12.1.105)\r\n",
      "Requirement already satisfied: nvidia-cudnn-cu12==8.9.2.26 in /opt/conda/lib/python3.10/site-packages (from torch->torchvision) (8.9.2.26)\r\n",
      "Requirement already satisfied: nvidia-cublas-cu12==12.1.3.1 in /opt/conda/lib/python3.10/site-packages (from torch->torchvision) (12.1.3.1)\r\n",
      "Requirement already satisfied: nvidia-cufft-cu12==11.0.2.54 in /opt/conda/lib/python3.10/site-packages (from torch->torchvision) (11.0.2.54)\r\n",
      "Requirement already satisfied: nvidia-curand-cu12==10.3.2.106 in /opt/conda/lib/python3.10/site-packages (from torch->torchvision) (10.3.2.106)\r\n",
      "Requirement already satisfied: nvidia-cusolver-cu12==11.4.5.107 in /opt/conda/lib/python3.10/site-packages (from torch->torchvision) (11.4.5.107)\r\n",
      "Requirement already satisfied: nvidia-cusparse-cu12==12.1.0.106 in /opt/conda/lib/python3.10/site-packages (from torch->torchvision) (12.1.0.106)\r\n",
      "Requirement already satisfied: nvidia-nccl-cu12==2.19.3 in /opt/conda/lib/python3.10/site-packages (from torch->torchvision) (2.19.3)\r\n",
      "Requirement already satisfied: nvidia-nvtx-cu12==12.1.105 in /opt/conda/lib/python3.10/site-packages (from torch->torchvision) (12.1.105)\r\n",
      "Requirement already satisfied: triton==2.2.0 in /opt/conda/lib/python3.10/site-packages (from torch->torchvision) (2.2.0)\r\n",
      "Requirement already satisfied: nvidia-nvjitlink-cu12 in /opt/conda/lib/python3.10/site-packages (from nvidia-cusolver-cu12==11.4.5.107->torch->torchvision) (12.5.40)\r\n",
      "Requirement already satisfied: mpmath>=0.19 in /opt/conda/lib/python3.10/site-packages (from sympy->torch->torchvision) (1.3.0)\r\n",
      "Downloading onnxscript-0.1.0.dev20240530-py3-none-any.whl (607 kB)\r\n",
      "\u001b[2K   \u001b[90m━━━━━━━━━━━━━━━━━━━━━━━━━━━━━━━━━━━━━━━━\u001b[0m \u001b[32m607.5/607.5 kB\u001b[0m \u001b[31m3.5 MB/s\u001b[0m eta \u001b[36m0:00:00\u001b[0m\r\n",
      "\u001b[?25hInstalling collected packages: onnxscript\r\n",
      "Successfully installed onnxscript-0.1.0.dev20240530\r\n"
     ]
    }
   ],
   "source": [
    "!pip install pycuda scikit-image matplotlib torchvision onnx onnxscript"
   ]
  },
  {
   "cell_type": "code",
   "execution_count": 6,
   "id": "7fa686fe",
   "metadata": {
    "execution": {
     "iopub.execute_input": "2024-05-30T14:36:36.155831Z",
     "iopub.status.busy": "2024-05-30T14:36:36.155167Z",
     "iopub.status.idle": "2024-05-30T14:36:43.251022Z",
     "shell.execute_reply": "2024-05-30T14:36:43.249843Z"
    },
    "id": "i7Mx3333bTQ6",
    "outputId": "e3d47288-9116-4e76-b858-1960404ac0c8",
    "papermill": {
     "duration": 7.194109,
     "end_time": "2024-05-30T14:36:43.253237",
     "exception": false,
     "start_time": "2024-05-30T14:36:36.059128",
     "status": "completed"
    },
    "tags": []
   },
   "outputs": [
    {
     "name": "stderr",
     "output_type": "stream",
     "text": [
      "/opt/conda/lib/python3.10/site-packages/torchvision/io/image.py:13: UserWarning: Failed to load image Python extension: '/opt/conda/lib/python3.10/site-packages/torchvision/image.so: undefined symbol: _ZN3c1017RegisterOperatorsD1Ev'If you don't plan on using image functionality from `torchvision.io`, you can ignore this warning. Otherwise, there might be something wrong with your environment. Did you have `libjpeg` or `libpng` installed before building `torchvision` from source?\n",
      "  warn(\n",
      "/opt/conda/lib/python3.10/site-packages/torchvision/models/_utils.py:208: UserWarning: The parameter 'pretrained' is deprecated since 0.13 and may be removed in the future, please use 'weights' instead.\n",
      "  warnings.warn(\n",
      "/opt/conda/lib/python3.10/site-packages/torchvision/models/_utils.py:223: UserWarning: Arguments other than a weight enum or `None` for 'weights' are deprecated since 0.13 and may be removed in the future. The current behavior is equivalent to passing `weights=ResNet50_Weights.IMAGENET1K_V1`. You can also use `weights=ResNet50_Weights.DEFAULT` to get the most up-to-date weights.\n",
      "  warnings.warn(msg)\n",
      "Downloading: \"https://download.pytorch.org/models/resnet50-0676ba61.pth\" to /root/.cache/torch/hub/checkpoints/resnet50-0676ba61.pth\n"
     ]
    },
    {
     "data": {
      "text/plain": [
       "ResNet(\n",
       "  (conv1): Conv2d(3, 64, kernel_size=(7, 7), stride=(2, 2), padding=(3, 3), bias=False)\n",
       "  (bn1): BatchNorm2d(64, eps=1e-05, momentum=0.1, affine=True, track_running_stats=True)\n",
       "  (relu): ReLU(inplace=True)\n",
       "  (maxpool): MaxPool2d(kernel_size=3, stride=2, padding=1, dilation=1, ceil_mode=False)\n",
       "  (layer1): Sequential(\n",
       "    (0): Bottleneck(\n",
       "      (conv1): Conv2d(64, 64, kernel_size=(1, 1), stride=(1, 1), bias=False)\n",
       "      (bn1): BatchNorm2d(64, eps=1e-05, momentum=0.1, affine=True, track_running_stats=True)\n",
       "      (conv2): Conv2d(64, 64, kernel_size=(3, 3), stride=(1, 1), padding=(1, 1), bias=False)\n",
       "      (bn2): BatchNorm2d(64, eps=1e-05, momentum=0.1, affine=True, track_running_stats=True)\n",
       "      (conv3): Conv2d(64, 256, kernel_size=(1, 1), stride=(1, 1), bias=False)\n",
       "      (bn3): BatchNorm2d(256, eps=1e-05, momentum=0.1, affine=True, track_running_stats=True)\n",
       "      (relu): ReLU(inplace=True)\n",
       "      (downsample): Sequential(\n",
       "        (0): Conv2d(64, 256, kernel_size=(1, 1), stride=(1, 1), bias=False)\n",
       "        (1): BatchNorm2d(256, eps=1e-05, momentum=0.1, affine=True, track_running_stats=True)\n",
       "      )\n",
       "    )\n",
       "    (1): Bottleneck(\n",
       "      (conv1): Conv2d(256, 64, kernel_size=(1, 1), stride=(1, 1), bias=False)\n",
       "      (bn1): BatchNorm2d(64, eps=1e-05, momentum=0.1, affine=True, track_running_stats=True)\n",
       "      (conv2): Conv2d(64, 64, kernel_size=(3, 3), stride=(1, 1), padding=(1, 1), bias=False)\n",
       "      (bn2): BatchNorm2d(64, eps=1e-05, momentum=0.1, affine=True, track_running_stats=True)\n",
       "      (conv3): Conv2d(64, 256, kernel_size=(1, 1), stride=(1, 1), bias=False)\n",
       "      (bn3): BatchNorm2d(256, eps=1e-05, momentum=0.1, affine=True, track_running_stats=True)\n",
       "      (relu): ReLU(inplace=True)\n",
       "    )\n",
       "    (2): Bottleneck(\n",
       "      (conv1): Conv2d(256, 64, kernel_size=(1, 1), stride=(1, 1), bias=False)\n",
       "      (bn1): BatchNorm2d(64, eps=1e-05, momentum=0.1, affine=True, track_running_stats=True)\n",
       "      (conv2): Conv2d(64, 64, kernel_size=(3, 3), stride=(1, 1), padding=(1, 1), bias=False)\n",
       "      (bn2): BatchNorm2d(64, eps=1e-05, momentum=0.1, affine=True, track_running_stats=True)\n",
       "      (conv3): Conv2d(64, 256, kernel_size=(1, 1), stride=(1, 1), bias=False)\n",
       "      (bn3): BatchNorm2d(256, eps=1e-05, momentum=0.1, affine=True, track_running_stats=True)\n",
       "      (relu): ReLU(inplace=True)\n",
       "    )\n",
       "  )\n",
       "  (layer2): Sequential(\n",
       "    (0): Bottleneck(\n",
       "      (conv1): Conv2d(256, 128, kernel_size=(1, 1), stride=(1, 1), bias=False)\n",
       "      (bn1): BatchNorm2d(128, eps=1e-05, momentum=0.1, affine=True, track_running_stats=True)\n",
       "      (conv2): Conv2d(128, 128, kernel_size=(3, 3), stride=(2, 2), padding=(1, 1), bias=False)\n",
       "      (bn2): BatchNorm2d(128, eps=1e-05, momentum=0.1, affine=True, track_running_stats=True)\n",
       "      (conv3): Conv2d(128, 512, kernel_size=(1, 1), stride=(1, 1), bias=False)\n",
       "      (bn3): BatchNorm2d(512, eps=1e-05, momentum=0.1, affine=True, track_running_stats=True)\n",
       "      (relu): ReLU(inplace=True)\n",
       "      (downsample): Sequential(\n",
       "        (0): Conv2d(256, 512, kernel_size=(1, 1), stride=(2, 2), bias=False)\n",
       "        (1): BatchNorm2d(512, eps=1e-05, momentum=0.1, affine=True, track_running_stats=True)\n",
       "      )\n",
       "    )\n",
       "    (1): Bottleneck(\n",
       "      (conv1): Conv2d(512, 128, kernel_size=(1, 1), stride=(1, 1), bias=False)\n",
       "      (bn1): BatchNorm2d(128, eps=1e-05, momentum=0.1, affine=True, track_running_stats=True)\n",
       "      (conv2): Conv2d(128, 128, kernel_size=(3, 3), stride=(1, 1), padding=(1, 1), bias=False)\n",
       "      (bn2): BatchNorm2d(128, eps=1e-05, momentum=0.1, affine=True, track_running_stats=True)\n",
       "      (conv3): Conv2d(128, 512, kernel_size=(1, 1), stride=(1, 1), bias=False)\n",
       "      (bn3): BatchNorm2d(512, eps=1e-05, momentum=0.1, affine=True, track_running_stats=True)\n",
       "      (relu): ReLU(inplace=True)\n",
       "    )\n",
       "    (2): Bottleneck(\n",
       "      (conv1): Conv2d(512, 128, kernel_size=(1, 1), stride=(1, 1), bias=False)\n",
       "      (bn1): BatchNorm2d(128, eps=1e-05, momentum=0.1, affine=True, track_running_stats=True)\n",
       "      (conv2): Conv2d(128, 128, kernel_size=(3, 3), stride=(1, 1), padding=(1, 1), bias=False)\n",
       "      (bn2): BatchNorm2d(128, eps=1e-05, momentum=0.1, affine=True, track_running_stats=True)\n",
       "      (conv3): Conv2d(128, 512, kernel_size=(1, 1), stride=(1, 1), bias=False)\n",
       "      (bn3): BatchNorm2d(512, eps=1e-05, momentum=0.1, affine=True, track_running_stats=True)\n",
       "      (relu): ReLU(inplace=True)\n",
       "    )\n",
       "    (3): Bottleneck(\n",
       "      (conv1): Conv2d(512, 128, kernel_size=(1, 1), stride=(1, 1), bias=False)\n",
       "      (bn1): BatchNorm2d(128, eps=1e-05, momentum=0.1, affine=True, track_running_stats=True)\n",
       "      (conv2): Conv2d(128, 128, kernel_size=(3, 3), stride=(1, 1), padding=(1, 1), bias=False)\n",
       "      (bn2): BatchNorm2d(128, eps=1e-05, momentum=0.1, affine=True, track_running_stats=True)\n",
       "      (conv3): Conv2d(128, 512, kernel_size=(1, 1), stride=(1, 1), bias=False)\n",
       "      (bn3): BatchNorm2d(512, eps=1e-05, momentum=0.1, affine=True, track_running_stats=True)\n",
       "      (relu): ReLU(inplace=True)\n",
       "    )\n",
       "  )\n",
       "  (layer3): Sequential(\n",
       "    (0): Bottleneck(\n",
       "      (conv1): Conv2d(512, 256, kernel_size=(1, 1), stride=(1, 1), bias=False)\n",
       "      (bn1): BatchNorm2d(256, eps=1e-05, momentum=0.1, affine=True, track_running_stats=True)\n",
       "      (conv2): Conv2d(256, 256, kernel_size=(3, 3), stride=(2, 2), padding=(1, 1), bias=False)\n",
       "      (bn2): BatchNorm2d(256, eps=1e-05, momentum=0.1, affine=True, track_running_stats=True)\n",
       "      (conv3): Conv2d(256, 1024, kernel_size=(1, 1), stride=(1, 1), bias=False)\n",
       "      (bn3): BatchNorm2d(1024, eps=1e-05, momentum=0.1, affine=True, track_running_stats=True)\n",
       "      (relu): ReLU(inplace=True)\n",
       "      (downsample): Sequential(\n",
       "        (0): Conv2d(512, 1024, kernel_size=(1, 1), stride=(2, 2), bias=False)\n",
       "        (1): BatchNorm2d(1024, eps=1e-05, momentum=0.1, affine=True, track_running_stats=True)\n",
       "      )\n",
       "    )\n",
       "    (1): Bottleneck(\n",
       "      (conv1): Conv2d(1024, 256, kernel_size=(1, 1), stride=(1, 1), bias=False)\n",
       "      (bn1): BatchNorm2d(256, eps=1e-05, momentum=0.1, affine=True, track_running_stats=True)\n",
       "      (conv2): Conv2d(256, 256, kernel_size=(3, 3), stride=(1, 1), padding=(1, 1), bias=False)\n",
       "      (bn2): BatchNorm2d(256, eps=1e-05, momentum=0.1, affine=True, track_running_stats=True)\n",
       "      (conv3): Conv2d(256, 1024, kernel_size=(1, 1), stride=(1, 1), bias=False)\n",
       "      (bn3): BatchNorm2d(1024, eps=1e-05, momentum=0.1, affine=True, track_running_stats=True)\n",
       "      (relu): ReLU(inplace=True)\n",
       "    )\n",
       "    (2): Bottleneck(\n",
       "      (conv1): Conv2d(1024, 256, kernel_size=(1, 1), stride=(1, 1), bias=False)\n",
       "      (bn1): BatchNorm2d(256, eps=1e-05, momentum=0.1, affine=True, track_running_stats=True)\n",
       "      (conv2): Conv2d(256, 256, kernel_size=(3, 3), stride=(1, 1), padding=(1, 1), bias=False)\n",
       "      (bn2): BatchNorm2d(256, eps=1e-05, momentum=0.1, affine=True, track_running_stats=True)\n",
       "      (conv3): Conv2d(256, 1024, kernel_size=(1, 1), stride=(1, 1), bias=False)\n",
       "      (bn3): BatchNorm2d(1024, eps=1e-05, momentum=0.1, affine=True, track_running_stats=True)\n",
       "      (relu): ReLU(inplace=True)\n",
       "    )\n",
       "    (3): Bottleneck(\n",
       "      (conv1): Conv2d(1024, 256, kernel_size=(1, 1), stride=(1, 1), bias=False)\n",
       "      (bn1): BatchNorm2d(256, eps=1e-05, momentum=0.1, affine=True, track_running_stats=True)\n",
       "      (conv2): Conv2d(256, 256, kernel_size=(3, 3), stride=(1, 1), padding=(1, 1), bias=False)\n",
       "      (bn2): BatchNorm2d(256, eps=1e-05, momentum=0.1, affine=True, track_running_stats=True)\n",
       "      (conv3): Conv2d(256, 1024, kernel_size=(1, 1), stride=(1, 1), bias=False)\n",
       "      (bn3): BatchNorm2d(1024, eps=1e-05, momentum=0.1, affine=True, track_running_stats=True)\n",
       "      (relu): ReLU(inplace=True)\n",
       "    )\n",
       "    (4): Bottleneck(\n",
       "      (conv1): Conv2d(1024, 256, kernel_size=(1, 1), stride=(1, 1), bias=False)\n",
       "      (bn1): BatchNorm2d(256, eps=1e-05, momentum=0.1, affine=True, track_running_stats=True)\n",
       "      (conv2): Conv2d(256, 256, kernel_size=(3, 3), stride=(1, 1), padding=(1, 1), bias=False)\n",
       "      (bn2): BatchNorm2d(256, eps=1e-05, momentum=0.1, affine=True, track_running_stats=True)\n",
       "      (conv3): Conv2d(256, 1024, kernel_size=(1, 1), stride=(1, 1), bias=False)\n",
       "      (bn3): BatchNorm2d(1024, eps=1e-05, momentum=0.1, affine=True, track_running_stats=True)\n",
       "      (relu): ReLU(inplace=True)\n",
       "    )\n",
       "    (5): Bottleneck(\n",
       "      (conv1): Conv2d(1024, 256, kernel_size=(1, 1), stride=(1, 1), bias=False)\n",
       "      (bn1): BatchNorm2d(256, eps=1e-05, momentum=0.1, affine=True, track_running_stats=True)\n",
       "      (conv2): Conv2d(256, 256, kernel_size=(3, 3), stride=(1, 1), padding=(1, 1), bias=False)\n",
       "      (bn2): BatchNorm2d(256, eps=1e-05, momentum=0.1, affine=True, track_running_stats=True)\n",
       "      (conv3): Conv2d(256, 1024, kernel_size=(1, 1), stride=(1, 1), bias=False)\n",
       "      (bn3): BatchNorm2d(1024, eps=1e-05, momentum=0.1, affine=True, track_running_stats=True)\n",
       "      (relu): ReLU(inplace=True)\n",
       "    )\n",
       "  )\n",
       "  (layer4): Sequential(\n",
       "    (0): Bottleneck(\n",
       "      (conv1): Conv2d(1024, 512, kernel_size=(1, 1), stride=(1, 1), bias=False)\n",
       "      (bn1): BatchNorm2d(512, eps=1e-05, momentum=0.1, affine=True, track_running_stats=True)\n",
       "      (conv2): Conv2d(512, 512, kernel_size=(3, 3), stride=(2, 2), padding=(1, 1), bias=False)\n",
       "      (bn2): BatchNorm2d(512, eps=1e-05, momentum=0.1, affine=True, track_running_stats=True)\n",
       "      (conv3): Conv2d(512, 2048, kernel_size=(1, 1), stride=(1, 1), bias=False)\n",
       "      (bn3): BatchNorm2d(2048, eps=1e-05, momentum=0.1, affine=True, track_running_stats=True)\n",
       "      (relu): ReLU(inplace=True)\n",
       "      (downsample): Sequential(\n",
       "        (0): Conv2d(1024, 2048, kernel_size=(1, 1), stride=(2, 2), bias=False)\n",
       "        (1): BatchNorm2d(2048, eps=1e-05, momentum=0.1, affine=True, track_running_stats=True)\n",
       "      )\n",
       "    )\n",
       "    (1): Bottleneck(\n",
       "      (conv1): Conv2d(2048, 512, kernel_size=(1, 1), stride=(1, 1), bias=False)\n",
       "      (bn1): BatchNorm2d(512, eps=1e-05, momentum=0.1, affine=True, track_running_stats=True)\n",
       "      (conv2): Conv2d(512, 512, kernel_size=(3, 3), stride=(1, 1), padding=(1, 1), bias=False)\n",
       "      (bn2): BatchNorm2d(512, eps=1e-05, momentum=0.1, affine=True, track_running_stats=True)\n",
       "      (conv3): Conv2d(512, 2048, kernel_size=(1, 1), stride=(1, 1), bias=False)\n",
       "      (bn3): BatchNorm2d(2048, eps=1e-05, momentum=0.1, affine=True, track_running_stats=True)\n",
       "      (relu): ReLU(inplace=True)\n",
       "    )\n",
       "    (2): Bottleneck(\n",
       "      (conv1): Conv2d(2048, 512, kernel_size=(1, 1), stride=(1, 1), bias=False)\n",
       "      (bn1): BatchNorm2d(512, eps=1e-05, momentum=0.1, affine=True, track_running_stats=True)\n",
       "      (conv2): Conv2d(512, 512, kernel_size=(3, 3), stride=(1, 1), padding=(1, 1), bias=False)\n",
       "      (bn2): BatchNorm2d(512, eps=1e-05, momentum=0.1, affine=True, track_running_stats=True)\n",
       "      (conv3): Conv2d(512, 2048, kernel_size=(1, 1), stride=(1, 1), bias=False)\n",
       "      (bn3): BatchNorm2d(2048, eps=1e-05, momentum=0.1, affine=True, track_running_stats=True)\n",
       "      (relu): ReLU(inplace=True)\n",
       "    )\n",
       "  )\n",
       "  (avgpool): AdaptiveAvgPool2d(output_size=(1, 1))\n",
       "  (fc): Linear(in_features=2048, out_features=1000, bias=True)\n",
       ")"
      ]
     },
     "execution_count": 6,
     "metadata": {},
     "output_type": "execute_result"
    }
   ],
   "source": [
    "import torch\n",
    "import torchvision.models as models\n",
    "\n",
    "resnet50 = models.resnet50(pretrained=True, progress=False).eval()\n",
    "resnet50"
   ]
  },
  {
   "cell_type": "code",
   "execution_count": 7,
   "id": "4d5f2687",
   "metadata": {
    "execution": {
     "iopub.execute_input": "2024-05-30T14:36:43.450593Z",
     "iopub.status.busy": "2024-05-30T14:36:43.450120Z",
     "iopub.status.idle": "2024-05-30T14:36:44.222147Z",
     "shell.execute_reply": "2024-05-30T14:36:44.220860Z"
    },
    "id": "A3nBlb2Vcz7b",
    "outputId": "0b7abdb8-cf2b-409f-b656-97f1fef19470",
    "papermill": {
     "duration": 0.874501,
     "end_time": "2024-05-30T14:36:44.224258",
     "exception": false,
     "start_time": "2024-05-30T14:36:43.349757",
     "status": "completed"
    },
    "tags": []
   },
   "outputs": [
    {
     "name": "stdout",
     "output_type": "stream",
     "text": [
      "(370, 371, 3)\n",
      "(300, 451, 3)\n",
      "(400, 600, 3)\n",
      "(427, 640, 3)\n"
     ]
    }
   ],
   "source": [
    "from skimage import data\n",
    "\n",
    "image_names = (\n",
    "    'colorwheel',\n",
    "    'cat',\n",
    "    'coffee',\n",
    "    'rocket',\n",
    ")\n",
    "\n",
    "\n",
    "images = [getattr(data, name)() for name in image_names]\n",
    "\n",
    "for image in images:\n",
    "    print(image.shape)\n"
   ]
  },
  {
   "cell_type": "code",
   "execution_count": 8,
   "id": "82b34368",
   "metadata": {
    "execution": {
     "iopub.execute_input": "2024-05-30T14:36:44.421298Z",
     "iopub.status.busy": "2024-05-30T14:36:44.420744Z",
     "iopub.status.idle": "2024-05-30T14:36:44.828445Z",
     "shell.execute_reply": "2024-05-30T14:36:44.826850Z"
    },
    "id": "-bXU0iAfduWe",
    "papermill": {
     "duration": 0.510761,
     "end_time": "2024-05-30T14:36:44.831631",
     "exception": false,
     "start_time": "2024-05-30T14:36:44.320870",
     "status": "completed"
    },
    "tags": []
   },
   "outputs": [],
   "source": [
    "import numpy as np\n",
    "from skimage import io\n",
    "from skimage.transform import resize\n",
    "from matplotlib import pyplot as plt\n",
    "from torchvision import transforms as T\n",
    "\n",
    "normalize = T.Normalize(\n",
    "    mean=[0.485, 0.456, 0.406],\n",
    "    std=[0.229, 0.224, 0.225],\n",
    ")\n",
    "preprocessing = T.Compose([\n",
    "    T.ToPILImage(),\n",
    "    T.Resize(256),\n",
    "    T.CenterCrop(224),\n",
    "    T.ToTensor(),\n",
    "    normalize,\n",
    "])\n",
    "\n",
    "\n",
    "images_ = [preprocessing(img) for img in images]\n",
    "batch = torch.stack([img.float() for _ in range(5) for img in images_ ])\n",
    "batch_cuda = batch.to(\"cuda\")\n"
   ]
  },
  {
   "cell_type": "code",
   "execution_count": 9,
   "id": "b79b6444",
   "metadata": {
    "execution": {
     "iopub.execute_input": "2024-05-30T14:36:45.073274Z",
     "iopub.status.busy": "2024-05-30T14:36:45.072738Z",
     "iopub.status.idle": "2024-05-30T14:36:45.078132Z",
     "shell.execute_reply": "2024-05-30T14:36:45.077173Z"
    },
    "papermill": {
     "duration": 0.124648,
     "end_time": "2024-05-30T14:36:45.080140",
     "exception": false,
     "start_time": "2024-05-30T14:36:44.955492",
     "status": "completed"
    },
    "tags": []
   },
   "outputs": [],
   "source": [
    "def benchmark(model, input_batch):\n",
    "    with torch.no_grad():\n",
    "        preds = model(input_batch)\n",
    "        preds = preds.argmax(-1).cpu().numpy()\n",
    "    return preds"
   ]
  },
  {
   "cell_type": "code",
   "execution_count": 10,
   "id": "ee03a609",
   "metadata": {
    "execution": {
     "iopub.execute_input": "2024-05-30T14:36:45.285182Z",
     "iopub.status.busy": "2024-05-30T14:36:45.284803Z",
     "iopub.status.idle": "2024-05-30T14:36:45.669866Z",
     "shell.execute_reply": "2024-05-30T14:36:45.668757Z"
    },
    "id": "tYy3hWj1mEga",
    "outputId": "5c55359a-931c-4517-f176-d09432f02c47",
    "papermill": {
     "duration": 0.492707,
     "end_time": "2024-05-30T14:36:45.672156",
     "exception": false,
     "start_time": "2024-05-30T14:36:45.179449",
     "status": "completed"
    },
    "tags": []
   },
   "outputs": [
    {
     "data": {
      "text/plain": [
       "array([818, 285, 967, 657, 818, 285, 967, 657, 818, 285, 967, 657, 818,\n",
       "       285, 967, 657, 818, 285, 967, 657])"
      ]
     },
     "execution_count": 10,
     "metadata": {},
     "output_type": "execute_result"
    }
   ],
   "source": [
    "resnet50_cuda = resnet50.float().to(\"cuda\")\n",
    "benchmark(resnet50_cuda, batch_cuda)"
   ]
  },
  {
   "cell_type": "code",
   "execution_count": 11,
   "id": "4820a43a",
   "metadata": {
    "execution": {
     "iopub.execute_input": "2024-05-30T14:36:45.880723Z",
     "iopub.status.busy": "2024-05-30T14:36:45.880233Z",
     "iopub.status.idle": "2024-05-30T14:36:50.476449Z",
     "shell.execute_reply": "2024-05-30T14:36:50.475229Z"
    },
    "papermill": {
     "duration": 4.706992,
     "end_time": "2024-05-30T14:36:50.478804",
     "exception": false,
     "start_time": "2024-05-30T14:36:45.771812",
     "status": "completed"
    },
    "tags": []
   },
   "outputs": [
    {
     "name": "stdout",
     "output_type": "stream",
     "text": [
      "55.9 ms ± 326 µs per loop (mean ± std. dev. of 7 runs, 10 loops each)\n"
     ]
    }
   ],
   "source": [
    "resnet50_cuda_time = %timeit -o benchmark(resnet50_cuda, batch_cuda)"
   ]
  },
  {
   "cell_type": "code",
   "execution_count": 12,
   "id": "c8b387dc",
   "metadata": {
    "execution": {
     "iopub.execute_input": "2024-05-30T14:36:50.679063Z",
     "iopub.status.busy": "2024-05-30T14:36:50.678248Z",
     "iopub.status.idle": "2024-05-30T14:36:50.949179Z",
     "shell.execute_reply": "2024-05-30T14:36:50.948042Z"
    },
    "id": "LJr5q834j4ha",
    "outputId": "119ff5db-2118-4d30-b414-c90079575d9d",
    "papermill": {
     "duration": 0.373934,
     "end_time": "2024-05-30T14:36:50.951589",
     "exception": false,
     "start_time": "2024-05-30T14:36:50.577655",
     "status": "completed"
    },
    "tags": []
   },
   "outputs": [
    {
     "data": {
      "text/plain": [
       "array([818, 285, 967, 657, 818, 285, 967, 657, 818, 285, 967, 657, 818,\n",
       "       285, 967, 657, 818, 285, 967, 657])"
      ]
     },
     "execution_count": 12,
     "metadata": {},
     "output_type": "execute_result"
    }
   ],
   "source": [
    "resnet50_half = resnet50.half().to(\"cuda\")\n",
    "batch_half = batch_cuda.half()\n",
    "\n",
    "benchmark(resnet50_half, batch_half)"
   ]
  },
  {
   "cell_type": "code",
   "execution_count": 13,
   "id": "2705a7f4",
   "metadata": {
    "execution": {
     "iopub.execute_input": "2024-05-30T14:36:51.150462Z",
     "iopub.status.busy": "2024-05-30T14:36:51.150097Z",
     "iopub.status.idle": "2024-05-30T14:36:53.138358Z",
     "shell.execute_reply": "2024-05-30T14:36:53.137053Z"
    },
    "papermill": {
     "duration": 2.089897,
     "end_time": "2024-05-30T14:36:53.140501",
     "exception": false,
     "start_time": "2024-05-30T14:36:51.050604",
     "status": "completed"
    },
    "tags": []
   },
   "outputs": [
    {
     "name": "stdout",
     "output_type": "stream",
     "text": [
      "24.5 ms ± 354 µs per loop (mean ± std. dev. of 7 runs, 10 loops each)\n"
     ]
    }
   ],
   "source": [
    "resnet50_half_time = %timeit -o benchmark(resnet50_half, batch_half)"
   ]
  },
  {
   "cell_type": "code",
   "execution_count": 14,
   "id": "a387afc4",
   "metadata": {
    "execution": {
     "iopub.execute_input": "2024-05-30T14:36:53.334183Z",
     "iopub.status.busy": "2024-05-30T14:36:53.333334Z",
     "iopub.status.idle": "2024-05-30T14:37:17.528630Z",
     "shell.execute_reply": "2024-05-30T14:37:17.526986Z"
    },
    "id": "26PESEIIwdBC",
    "outputId": "b700c430-1484-4ea6-aa7b-0a92b2820f2b",
    "papermill": {
     "duration": 24.294753,
     "end_time": "2024-05-30T14:37:17.532414",
     "exception": false,
     "start_time": "2024-05-30T14:36:53.237661",
     "status": "completed"
    },
    "tags": []
   },
   "outputs": [
    {
     "name": "stdout",
     "output_type": "stream",
     "text": [
      "12.6 ms ± 759 µs per loop (mean ± std. dev. of 7 runs, 1 loop each)\n"
     ]
    }
   ],
   "source": [
    "# test compiled version\n",
    "resnet50_half.compile()\n",
    "\n",
    "resnet50_half_compiled_time = %timeit -o benchmark(resnet50_half, batch_half)"
   ]
  },
  {
   "cell_type": "markdown",
   "id": "1eb66ea4",
   "metadata": {
    "papermill": {
     "duration": 0.11974,
     "end_time": "2024-05-30T14:37:17.766494",
     "exception": false,
     "start_time": "2024-05-30T14:37:17.646754",
     "status": "completed"
    },
    "tags": []
   },
   "source": [
    "# Export From Torch\n",
    "\n",
    "Export to tensorrt with [torch-tensorrt](https://pytorch.org/TensorRT/tutorials/notebooks.html).\n",
    "Torch-TensorRT has the advantage of reducing the number of steps between torch model and optimized tensorRT models for deployment.\n",
    "Moreover, as torch and tensorRT share the same IR there is higher change that the model can be properly exported/optimized.\n",
    "Finally, this enable us to optimize part of the model only with tensorRT and integrate it into a torch-script model for fine-grained optimization.\n",
    "\n",
    "\n"
   ]
  },
  {
   "cell_type": "code",
   "execution_count": 15,
   "id": "1df85a26",
   "metadata": {
    "execution": {
     "iopub.execute_input": "2024-05-30T14:37:17.977592Z",
     "iopub.status.busy": "2024-05-30T14:37:17.977047Z",
     "iopub.status.idle": "2024-05-30T14:37:18.868177Z",
     "shell.execute_reply": "2024-05-30T14:37:18.867260Z"
    },
    "papermill": {
     "duration": 0.991793,
     "end_time": "2024-05-30T14:37:18.870834",
     "exception": false,
     "start_time": "2024-05-30T14:37:17.879041",
     "status": "completed"
    },
    "tags": []
   },
   "outputs": [
    {
     "name": "stderr",
     "output_type": "stream",
     "text": [
      "/opt/conda/lib/python3.10/site-packages/torchvision/models/_utils.py:223: UserWarning: Arguments other than a weight enum or `None` for 'weights' are deprecated since 0.13 and may be removed in the future. The current behavior is equivalent to passing `weights=ResNet50_Weights.IMAGENET1K_V1`. You can also use `weights=ResNet50_Weights.DEFAULT` to get the most up-to-date weights.\n",
      "  warnings.warn(msg)\n"
     ]
    }
   ],
   "source": [
    "import torch\n",
    "import torchvision.models as models\n",
    "\n",
    "resnet50 = models.resnet50(weights=True, progress=False).eval()"
   ]
  },
  {
   "cell_type": "code",
   "execution_count": 16,
   "id": "752e0887",
   "metadata": {
    "execution": {
     "iopub.execute_input": "2024-05-30T14:37:19.069478Z",
     "iopub.status.busy": "2024-05-30T14:37:19.068723Z",
     "iopub.status.idle": "2024-05-30T14:38:00.183841Z",
     "shell.execute_reply": "2024-05-30T14:38:00.182818Z"
    },
    "papermill": {
     "duration": 41.317984,
     "end_time": "2024-05-30T14:38:00.286577",
     "exception": false,
     "start_time": "2024-05-30T14:37:18.968593",
     "status": "completed"
    },
    "tags": []
   },
   "outputs": [
    {
     "name": "stderr",
     "output_type": "stream",
     "text": [
      "WARNING: [Torch-TensorRT] - Detected this engine is being instantitated in a multi-GPU system with multi-device safe mode disabled. For more on the implications of this as well as workarounds, see the linked documentation (https://pytorch.org/TensorRT/user_guide/runtime.html#multi-device-safe-mode)\n",
      "/opt/conda/lib/python3.10/site-packages/torch/_export/exported_program.py:333: UserWarning: Unable to execute the generated python source code from the graph. The graph module will no longer be directly callable, but you can still run the ExportedProgram, and if needed, you can run the graph module eagerly using torch.fx.Interpreter.\n",
      "  warnings.warn(\n"
     ]
    }
   ],
   "source": [
    "import torch_tensorrt\n",
    "\n",
    "def GiB(val):\n",
    "    return val * 1 << 30\n",
    "\n",
    "# The compiled module will have precision as specified by \"op_precision\".\n",
    "# Here, it will have FP32 precision.\n",
    "resnet50_rt = torch_tensorrt.compile(\n",
    "    resnet50.cuda(),\n",
    "    inputs=[\n",
    "        torch_tensorrt.Input(\n",
    "            (batch.size(0), 3, 224, 224),\n",
    "            dtype=torch.float32,\n",
    "        ),\n",
    "    ],\n",
    "    enabled_precisions=[torch.float32], # Run with FP32\n",
    "    workspace_size=GiB(1),\n",
    ")\n"
   ]
  },
  {
   "cell_type": "code",
   "execution_count": 17,
   "id": "d6f53da1",
   "metadata": {
    "execution": {
     "iopub.execute_input": "2024-05-30T14:38:00.484512Z",
     "iopub.status.busy": "2024-05-30T14:38:00.483554Z",
     "iopub.status.idle": "2024-05-30T14:38:00.535344Z",
     "shell.execute_reply": "2024-05-30T14:38:00.534391Z"
    },
    "papermill": {
     "duration": 0.153204,
     "end_time": "2024-05-30T14:38:00.537540",
     "exception": false,
     "start_time": "2024-05-30T14:38:00.384336",
     "status": "completed"
    },
    "tags": []
   },
   "outputs": [
    {
     "data": {
      "text/plain": [
       "array([818, 285, 967, 657, 818, 285, 967, 657, 818, 285, 967, 657, 818,\n",
       "       285, 967, 657, 818, 285, 967, 657])"
      ]
     },
     "execution_count": 17,
     "metadata": {},
     "output_type": "execute_result"
    }
   ],
   "source": [
    "preds, = resnet50_rt(batch_cuda)\n",
    "preds = preds.argmax(-1).cpu().numpy()\n",
    "preds"
   ]
  },
  {
   "cell_type": "code",
   "execution_count": 18,
   "id": "3a78766c",
   "metadata": {
    "execution": {
     "iopub.execute_input": "2024-05-30T14:38:00.736574Z",
     "iopub.status.busy": "2024-05-30T14:38:00.735742Z",
     "iopub.status.idle": "2024-05-30T14:38:04.514428Z",
     "shell.execute_reply": "2024-05-30T14:38:04.513243Z"
    },
    "papermill": {
     "duration": 3.880514,
     "end_time": "2024-05-30T14:38:04.516653",
     "exception": false,
     "start_time": "2024-05-30T14:38:00.636139",
     "status": "completed"
    },
    "tags": []
   },
   "outputs": [
    {
     "name": "stdout",
     "output_type": "stream",
     "text": [
      "46.3 ms ± 333 µs per loop (mean ± std. dev. of 7 runs, 10 loops each)\n"
     ]
    }
   ],
   "source": [
    "def benchmark_rt(model, input_):\n",
    "    with torch.no_grad():\n",
    "        preds, = model(input_)\n",
    "        preds = preds.argmax(-1).cpu().numpy()\n",
    "    return preds\n",
    "\n",
    "resnet50_rt_time = %timeit -o benchmark_rt(resnet50_rt, batch_cuda)"
   ]
  },
  {
   "cell_type": "markdown",
   "id": "47be302f",
   "metadata": {
    "papermill": {
     "duration": 0.095222,
     "end_time": "2024-05-30T14:38:04.708096",
     "exception": false,
     "start_time": "2024-05-30T14:38:04.612874",
     "status": "completed"
    },
    "tags": []
   },
   "source": [
    "# Full-Precision with Tracing\n",
    "\n",
    "Compiling with tensor-rt a pytorch-traced model should improve the performances as we get double optimization: pytorch tracing first and later tensorrt kernel fusion."
   ]
  },
  {
   "cell_type": "code",
   "execution_count": 19,
   "id": "66bf504c",
   "metadata": {
    "execution": {
     "iopub.execute_input": "2024-05-30T14:38:04.897847Z",
     "iopub.status.busy": "2024-05-30T14:38:04.897465Z",
     "iopub.status.idle": "2024-05-30T14:38:35.967827Z",
     "shell.execute_reply": "2024-05-30T14:38:35.966837Z"
    },
    "papermill": {
     "duration": 31.262946,
     "end_time": "2024-05-30T14:38:36.065627",
     "exception": false,
     "start_time": "2024-05-30T14:38:04.802681",
     "status": "completed"
    },
    "tags": []
   },
   "outputs": [
    {
     "name": "stderr",
     "output_type": "stream",
     "text": [
      "WARNING: [Torch-TensorRT] - Dilation not used in Max pooling converter\n",
      "WARNING: [Torch-TensorRT] - Detected this engine is being instantitated in a multi-GPU system with multi-device safe mode disabled. For more on the implications of this as well as workarounds, see the linked documentation (https://pytorch.org/TensorRT/user_guide/runtime.html#multi-device-safe-mode)\n"
     ]
    }
   ],
   "source": [
    " # full-precision with traced model\n",
    "\n",
    "import torch_tensorrt\n",
    "\n",
    "resnet50_traced = torch.jit.trace(\n",
    "    resnet50,\n",
    "    batch_cuda,\n",
    ")\n",
    "\n",
    "\n",
    "def GiB(val):\n",
    "    return val * 1 << 30\n",
    "\n",
    "# The compiled module will have precision as specified by \"op_precision\".\n",
    "# Here, it will have FP32 precision.\n",
    "resnet50_traced_rt = torch_tensorrt.compile(\n",
    "    resnet50_traced,\n",
    "    inputs=[\n",
    "        torch_tensorrt.Input(\n",
    "            (batch.size(0), 3, 224, 224),\n",
    "            dtype=torch.float32,\n",
    "        ),\n",
    "    ],\n",
    "    enabled_precisions=[torch.float32], # Run with FP32\n",
    "    workspace_size=GiB(1),\n",
    ")\n"
   ]
  },
  {
   "cell_type": "code",
   "execution_count": 20,
   "id": "9271019d",
   "metadata": {
    "execution": {
     "iopub.execute_input": "2024-05-30T14:38:36.263685Z",
     "iopub.status.busy": "2024-05-30T14:38:36.262789Z",
     "iopub.status.idle": "2024-05-30T14:38:36.299255Z",
     "shell.execute_reply": "2024-05-30T14:38:36.298161Z"
    },
    "papermill": {
     "duration": 0.137739,
     "end_time": "2024-05-30T14:38:36.301272",
     "exception": false,
     "start_time": "2024-05-30T14:38:36.163533",
     "status": "completed"
    },
    "tags": []
   },
   "outputs": [
    {
     "data": {
      "text/plain": [
       "array([818, 285, 967, 657, 818, 285, 967, 657, 818, 285, 967, 657, 818,\n",
       "       285, 967, 657, 818, 285, 967, 657])"
      ]
     },
     "execution_count": 20,
     "metadata": {},
     "output_type": "execute_result"
    }
   ],
   "source": [
    "benchmark(resnet50_traced_rt, batch_cuda)"
   ]
  },
  {
   "cell_type": "code",
   "execution_count": 21,
   "id": "ae5d6c04",
   "metadata": {
    "execution": {
     "iopub.execute_input": "2024-05-30T14:38:36.501540Z",
     "iopub.status.busy": "2024-05-30T14:38:36.501128Z",
     "iopub.status.idle": "2024-05-30T14:38:39.963190Z",
     "shell.execute_reply": "2024-05-30T14:38:39.962154Z"
    },
    "papermill": {
     "duration": 3.562756,
     "end_time": "2024-05-30T14:38:39.965428",
     "exception": false,
     "start_time": "2024-05-30T14:38:36.402672",
     "status": "completed"
    },
    "tags": []
   },
   "outputs": [
    {
     "name": "stdout",
     "output_type": "stream",
     "text": [
      "43 ms ± 514 µs per loop (mean ± std. dev. of 7 runs, 10 loops each)\n"
     ]
    }
   ],
   "source": [
    "resnet50_traced_rt_time = %timeit -o benchmark(resnet50_traced_rt, batch_cuda)"
   ]
  },
  {
   "cell_type": "code",
   "execution_count": 22,
   "id": "35c01c33",
   "metadata": {
    "execution": {
     "iopub.execute_input": "2024-05-30T14:38:40.178813Z",
     "iopub.status.busy": "2024-05-30T14:38:40.177924Z",
     "iopub.status.idle": "2024-05-30T14:38:45.123274Z",
     "shell.execute_reply": "2024-05-30T14:38:45.122298Z"
    },
    "papermill": {
     "duration": 5.050953,
     "end_time": "2024-05-30T14:38:45.125709",
     "exception": false,
     "start_time": "2024-05-30T14:38:40.074756",
     "status": "completed"
    },
    "tags": []
   },
   "outputs": [
    {
     "name": "stdout",
     "output_type": "stream",
     "text": [
      "60.3 ms ± 563 µs per loop (mean ± std. dev. of 7 runs, 10 loops each)\n"
     ]
    }
   ],
   "source": [
    "resnet50_traced_time = %timeit -o benchmark(resnet50_traced, batch_cuda)"
   ]
  },
  {
   "cell_type": "markdown",
   "id": "f857bc9e",
   "metadata": {
    "papermill": {
     "duration": 0.101564,
     "end_time": "2024-05-30T14:38:45.325324",
     "exception": false,
     "start_time": "2024-05-30T14:38:45.223760",
     "status": "completed"
    },
    "tags": []
   },
   "source": [
    "# Half Precision"
   ]
  },
  {
   "cell_type": "code",
   "execution_count": 23,
   "id": "d45eac14",
   "metadata": {
    "execution": {
     "iopub.execute_input": "2024-05-30T14:38:45.525456Z",
     "iopub.status.busy": "2024-05-30T14:38:45.524576Z",
     "iopub.status.idle": "2024-05-30T14:39:45.656309Z",
     "shell.execute_reply": "2024-05-30T14:39:45.655396Z"
    },
    "papermill": {
     "duration": 60.329292,
     "end_time": "2024-05-30T14:39:45.754044",
     "exception": false,
     "start_time": "2024-05-30T14:38:45.424752",
     "status": "completed"
    },
    "tags": []
   },
   "outputs": [
    {
     "name": "stderr",
     "output_type": "stream",
     "text": [
      "WARNING: [Torch-TensorRT] - Dilation not used in Max pooling converter\n",
      "WARNING: [Torch-TensorRT] - Detected this engine is being instantitated in a multi-GPU system with multi-device safe mode disabled. For more on the implications of this as well as workarounds, see the linked documentation (https://pytorch.org/TensorRT/user_guide/runtime.html#multi-device-safe-mode)\n"
     ]
    }
   ],
   "source": [
    " # full-precision with traced model\n",
    "\n",
    "import torch_tensorrt\n",
    "\n",
    "resnet50 = resnet50.half()\n",
    "\n",
    "resnet50_half_traced = torch.jit.trace(\n",
    "    resnet50,\n",
    "    batch_half,\n",
    ")\n",
    "\n",
    "\n",
    "def GiB(val):\n",
    "    return val * 1 << 30\n",
    "\n",
    "# The compiled module will have precision as specified by \"op_precision\".\n",
    "# Here, it will have FP32 precision.\n",
    "resnet50_half_traced_rt = torch_tensorrt.compile(\n",
    "    resnet50_half_traced,\n",
    "    inputs=[\n",
    "        torch_tensorrt.Input(\n",
    "            (batch.size(0), 3, 224, 224),\n",
    "            dtype=torch.float16,\n",
    "        ),\n",
    "    ],\n",
    "    enabled_precisions=[torch.float16], # Run with FP32\n",
    "    workspace_size=GiB(1),\n",
    ")\n"
   ]
  },
  {
   "cell_type": "code",
   "execution_count": 24,
   "id": "e969dd24",
   "metadata": {
    "execution": {
     "iopub.execute_input": "2024-05-30T14:39:45.948587Z",
     "iopub.status.busy": "2024-05-30T14:39:45.948233Z",
     "iopub.status.idle": "2024-05-30T14:39:45.962462Z",
     "shell.execute_reply": "2024-05-30T14:39:45.961569Z"
    },
    "papermill": {
     "duration": 0.112496,
     "end_time": "2024-05-30T14:39:45.964429",
     "exception": false,
     "start_time": "2024-05-30T14:39:45.851933",
     "status": "completed"
    },
    "tags": []
   },
   "outputs": [
    {
     "data": {
      "text/plain": [
       "array([818, 285, 967, 657, 818, 285, 967, 657, 818, 285, 967, 657, 818,\n",
       "       285, 967, 657, 818, 285, 967, 657])"
      ]
     },
     "execution_count": 24,
     "metadata": {},
     "output_type": "execute_result"
    }
   ],
   "source": [
    "benchmark(resnet50_half_traced_rt, batch_half)"
   ]
  },
  {
   "cell_type": "code",
   "execution_count": 25,
   "id": "c6571890",
   "metadata": {
    "execution": {
     "iopub.execute_input": "2024-05-30T14:39:46.151784Z",
     "iopub.status.busy": "2024-05-30T14:39:46.151473Z",
     "iopub.status.idle": "2024-05-30T14:39:46.165698Z",
     "shell.execute_reply": "2024-05-30T14:39:46.164809Z"
    },
    "papermill": {
     "duration": 0.110396,
     "end_time": "2024-05-30T14:39:46.167770",
     "exception": false,
     "start_time": "2024-05-30T14:39:46.057374",
     "status": "completed"
    },
    "tags": []
   },
   "outputs": [
    {
     "data": {
      "text/plain": [
       "array([818, 285, 967, 657, 818, 285, 967, 657, 818, 285, 967, 657, 818,\n",
       "       285, 967, 657, 818, 285, 967, 657])"
      ]
     },
     "execution_count": 25,
     "metadata": {},
     "output_type": "execute_result"
    }
   ],
   "source": [
    "preds = resnet50_half_traced_rt(batch_half)\n",
    "preds = preds.argmax(-1).cpu().numpy()\n",
    "preds"
   ]
  },
  {
   "cell_type": "code",
   "execution_count": 26,
   "id": "56c24581",
   "metadata": {
    "execution": {
     "iopub.execute_input": "2024-05-30T14:39:46.364952Z",
     "iopub.status.busy": "2024-05-30T14:39:46.364240Z",
     "iopub.status.idle": "2024-05-30T14:39:55.651745Z",
     "shell.execute_reply": "2024-05-30T14:39:55.650697Z"
    },
    "papermill": {
     "duration": 9.386312,
     "end_time": "2024-05-30T14:39:55.654036",
     "exception": false,
     "start_time": "2024-05-30T14:39:46.267724",
     "status": "completed"
    },
    "tags": []
   },
   "outputs": [
    {
     "name": "stdout",
     "output_type": "stream",
     "text": [
      "11.5 ms ± 82.3 µs per loop (mean ± std. dev. of 7 runs, 100 loops each)\n"
     ]
    }
   ],
   "source": [
    "resnet50_half_traced_rt_time = %timeit -o benchmark(model=resnet50_half_traced_rt,input_batch=batch_half,)"
   ]
  },
  {
   "cell_type": "code",
   "execution_count": 27,
   "id": "b1697be0",
   "metadata": {
    "execution": {
     "iopub.execute_input": "2024-05-30T14:39:55.858748Z",
     "iopub.status.busy": "2024-05-30T14:39:55.858375Z",
     "iopub.status.idle": "2024-05-30T14:39:58.201576Z",
     "shell.execute_reply": "2024-05-30T14:39:58.200451Z"
    },
    "papermill": {
     "duration": 2.449834,
     "end_time": "2024-05-30T14:39:58.203503",
     "exception": false,
     "start_time": "2024-05-30T14:39:55.753669",
     "status": "completed"
    },
    "tags": []
   },
   "outputs": [
    {
     "name": "stdout",
     "output_type": "stream",
     "text": [
      "28.1 ms ± 915 µs per loop (mean ± std. dev. of 7 runs, 10 loops each)\n"
     ]
    }
   ],
   "source": [
    "resnet50_half_traced_time = %timeit -o benchmark(resnet50_half_traced,batch_half,)"
   ]
  },
  {
   "cell_type": "markdown",
   "id": "e3db60c0",
   "metadata": {
    "papermill": {
     "duration": 0.096787,
     "end_time": "2024-05-30T14:39:58.396228",
     "exception": false,
     "start_time": "2024-05-30T14:39:58.299441",
     "status": "completed"
    },
    "tags": []
   },
   "source": [
    "# Summary"
   ]
  },
  {
   "cell_type": "code",
   "execution_count": 28,
   "id": "f9a5c20e",
   "metadata": {
    "execution": {
     "iopub.execute_input": "2024-05-30T14:39:58.591373Z",
     "iopub.status.busy": "2024-05-30T14:39:58.590961Z",
     "iopub.status.idle": "2024-05-30T14:39:59.657007Z",
     "shell.execute_reply": "2024-05-30T14:39:59.656048Z"
    },
    "papermill": {
     "duration": 1.168262,
     "end_time": "2024-05-30T14:39:59.659321",
     "exception": false,
     "start_time": "2024-05-30T14:39:58.491059",
     "status": "completed"
    },
    "tags": []
   },
   "outputs": [
    {
     "data": {
      "text/html": [
       "<div>\n",
       "<style scoped>\n",
       "    .dataframe tbody tr th:only-of-type {\n",
       "        vertical-align: middle;\n",
       "    }\n",
       "\n",
       "    .dataframe tbody tr th {\n",
       "        vertical-align: top;\n",
       "    }\n",
       "\n",
       "    .dataframe thead th {\n",
       "        text-align: right;\n",
       "    }\n",
       "</style>\n",
       "<table border=\"1\" class=\"dataframe\">\n",
       "  <thead>\n",
       "    <tr style=\"text-align: right;\">\n",
       "      <th></th>\n",
       "      <th>resnet50</th>\n",
       "      <th>resnet50_traced</th>\n",
       "      <th>resnet50_rt</th>\n",
       "      <th>resnet50_traced_rt_time</th>\n",
       "      <th>resnet50_half</th>\n",
       "      <th>resnet50_half_traced_time</th>\n",
       "      <th>resnet50_half_compiled_time</th>\n",
       "      <th>resnet50_half_traced_rt_time</th>\n",
       "    </tr>\n",
       "  </thead>\n",
       "  <tbody>\n",
       "    <tr>\n",
       "      <th>0</th>\n",
       "      <td>0.055567</td>\n",
       "      <td>0.061190</td>\n",
       "      <td>0.046636</td>\n",
       "      <td>0.043217</td>\n",
       "      <td>0.024380</td>\n",
       "      <td>0.027265</td>\n",
       "      <td>0.011907</td>\n",
       "      <td>0.011289</td>\n",
       "    </tr>\n",
       "    <tr>\n",
       "      <th>1</th>\n",
       "      <td>0.055501</td>\n",
       "      <td>0.059373</td>\n",
       "      <td>0.046315</td>\n",
       "      <td>0.043145</td>\n",
       "      <td>0.024250</td>\n",
       "      <td>0.028378</td>\n",
       "      <td>0.011697</td>\n",
       "      <td>0.011435</td>\n",
       "    </tr>\n",
       "    <tr>\n",
       "      <th>2</th>\n",
       "      <td>0.055764</td>\n",
       "      <td>0.060293</td>\n",
       "      <td>0.046607</td>\n",
       "      <td>0.042077</td>\n",
       "      <td>0.025344</td>\n",
       "      <td>0.029919</td>\n",
       "      <td>0.011723</td>\n",
       "      <td>0.011512</td>\n",
       "    </tr>\n",
       "    <tr>\n",
       "      <th>3</th>\n",
       "      <td>0.055866</td>\n",
       "      <td>0.060871</td>\n",
       "      <td>0.046542</td>\n",
       "      <td>0.043644</td>\n",
       "      <td>0.024370</td>\n",
       "      <td>0.027423</td>\n",
       "      <td>0.012611</td>\n",
       "      <td>0.011515</td>\n",
       "    </tr>\n",
       "    <tr>\n",
       "      <th>4</th>\n",
       "      <td>0.056250</td>\n",
       "      <td>0.060139</td>\n",
       "      <td>0.045646</td>\n",
       "      <td>0.042383</td>\n",
       "      <td>0.024364</td>\n",
       "      <td>0.027263</td>\n",
       "      <td>0.012890</td>\n",
       "      <td>0.011537</td>\n",
       "    </tr>\n",
       "    <tr>\n",
       "      <th>5</th>\n",
       "      <td>0.055961</td>\n",
       "      <td>0.059842</td>\n",
       "      <td>0.046217</td>\n",
       "      <td>0.043355</td>\n",
       "      <td>0.024351</td>\n",
       "      <td>0.028760</td>\n",
       "      <td>0.013633</td>\n",
       "      <td>0.011488</td>\n",
       "    </tr>\n",
       "    <tr>\n",
       "      <th>6</th>\n",
       "      <td>0.056473</td>\n",
       "      <td>0.060217</td>\n",
       "      <td>0.046021</td>\n",
       "      <td>0.042859</td>\n",
       "      <td>0.024693</td>\n",
       "      <td>0.027672</td>\n",
       "      <td>0.013509</td>\n",
       "      <td>0.011542</td>\n",
       "    </tr>\n",
       "  </tbody>\n",
       "</table>\n",
       "</div>"
      ],
      "text/plain": [
       "   resnet50  resnet50_traced  resnet50_rt  resnet50_traced_rt_time  \\\n",
       "0  0.055567         0.061190     0.046636                 0.043217   \n",
       "1  0.055501         0.059373     0.046315                 0.043145   \n",
       "2  0.055764         0.060293     0.046607                 0.042077   \n",
       "3  0.055866         0.060871     0.046542                 0.043644   \n",
       "4  0.056250         0.060139     0.045646                 0.042383   \n",
       "5  0.055961         0.059842     0.046217                 0.043355   \n",
       "6  0.056473         0.060217     0.046021                 0.042859   \n",
       "\n",
       "   resnet50_half  resnet50_half_traced_time  resnet50_half_compiled_time  \\\n",
       "0       0.024380                   0.027265                     0.011907   \n",
       "1       0.024250                   0.028378                     0.011697   \n",
       "2       0.025344                   0.029919                     0.011723   \n",
       "3       0.024370                   0.027423                     0.012611   \n",
       "4       0.024364                   0.027263                     0.012890   \n",
       "5       0.024351                   0.028760                     0.013633   \n",
       "6       0.024693                   0.027672                     0.013509   \n",
       "\n",
       "   resnet50_half_traced_rt_time  \n",
       "0                      0.011289  \n",
       "1                      0.011435  \n",
       "2                      0.011512  \n",
       "3                      0.011515  \n",
       "4                      0.011537  \n",
       "5                      0.011488  \n",
       "6                      0.011542  "
      ]
     },
     "execution_count": 28,
     "metadata": {},
     "output_type": "execute_result"
    }
   ],
   "source": [
    "data = {\n",
    "    \"resnet50\":resnet50_cuda_time.timings,\n",
    "    \"resnet50_traced\": resnet50_traced_time.timings,\n",
    "    \"resnet50_rt\": resnet50_rt_time.timings,\n",
    "    \"resnet50_traced_rt_time\": resnet50_traced_rt_time.timings,\n",
    "    \"resnet50_half\": resnet50_half_time.timings,\n",
    "    \"resnet50_half_traced_time\":resnet50_half_traced_time.timings,\n",
    "    \"resnet50_half_compiled_time\": resnet50_half_compiled_time.timings,\n",
    "    \"resnet50_half_traced_rt_time\":resnet50_half_traced_rt_time.timings,\n",
    "}\n",
    "\n",
    "import pandas as pd\n",
    "data = pd.DataFrame.from_dict(data)\n",
    "data"
   ]
  },
  {
   "cell_type": "code",
   "execution_count": 29,
   "id": "9acc60ca",
   "metadata": {
    "execution": {
     "iopub.execute_input": "2024-05-30T14:39:59.886080Z",
     "iopub.status.busy": "2024-05-30T14:39:59.885181Z",
     "iopub.status.idle": "2024-05-30T14:40:00.263787Z",
     "shell.execute_reply": "2024-05-30T14:40:00.262602Z"
    },
    "papermill": {
     "duration": 0.490008,
     "end_time": "2024-05-30T14:40:00.266037",
     "exception": false,
     "start_time": "2024-05-30T14:39:59.776029",
     "status": "completed"
    },
    "tags": []
   },
   "outputs": [
    {
     "data": {
      "text/plain": [
       "<Axes: >"
      ]
     },
     "execution_count": 29,
     "metadata": {},
     "output_type": "execute_result"
    },
    {
     "data": {
      "image/png": "[encoded data removed]",
      "text/plain": [
       "<Figure size 640x480 with 1 Axes>"
      ]
     },
     "metadata": {},
     "output_type": "display_data"
    }
   ],
   "source": [
    "data.mean().plot.bar()"
   ]
  }
 ],
 "metadata": {
  "accelerator": "GPU",
  "colab": {
   "authorship_tag": "ABX9TyO7oaKOPzzvZQHzakC6X0T2",
   "gpuType": "T4",
   "include_colab_link": true,
   "provenance": []
  },
  "kaggle": {
   "accelerator": "nvidiaTeslaT4",
   "dataSources": [],
   "dockerImageVersionId": 30699,
   "isGpuEnabled": true,
   "isInternetEnabled": true,
   "language": "python",
   "sourceType": "notebook"
  },
  "kernelspec": {
   "display_name": "Python 3",
   "language": "python",
   "name": "python3"
  },
  "language_info": {
   "codemirror_mode": {
    "name": "ipython",
    "version": 3
   },
   "file_extension": ".py",
   "mimetype": "text/x-python",
   "name": "python",
   "nbconvert_exporter": "python",
   "pygments_lexer": "ipython3",
   "version": "3.10.13"
  },
  "papermill": {
   "default_parameters": {},
   "duration": 460.510816,
   "end_time": "2024-05-30T14:40:03.300057",
   "environment_variables": {},
   "exception": null,
   "input_path": "__notebook__.ipynb",
   "output_path": "__notebook__.ipynb",
   "parameters": {},
   "start_time": "2024-05-30T14:32:22.789241",
   "version": "2.5.0"
  }
 },
 "nbformat": 4,
 "nbformat_minor": 5
}
